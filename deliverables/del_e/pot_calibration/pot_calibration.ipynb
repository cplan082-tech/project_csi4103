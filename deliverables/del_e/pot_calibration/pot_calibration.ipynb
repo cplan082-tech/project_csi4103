{
 "cells": [
  {
   "cell_type": "code",
   "execution_count": 40,
   "id": "2caffe85",
   "metadata": {},
   "outputs": [],
   "source": [
    "import pandas as pd\n",
    "import seaborn as sns\n",
    "import matplotlib.pyplot as plt\n",
    "from sympy import latex\n",
    "from IPython.display import display, Math\n",
    "plt.rcParams['figure.figsize'] = [20, 10]"
   ]
  },
  {
   "cell_type": "code",
   "execution_count": 41,
   "id": "3f6a5b0e",
   "metadata": {},
   "outputs": [],
   "source": [
    "# retrived from https://www.arduino.cc/reference/en/language/functions/math/map/\n",
    "def map_func(x, in_min, in_max, out_min, out_max):\n",
    "    return (x - in_min) * (out_max - out_min) / (in_max - in_min) + out_min"
   ]
  },
  {
   "cell_type": "code",
   "execution_count": 42,
   "id": "48da75d6",
   "metadata": {},
   "outputs": [],
   "source": [
    "def adc2angle(df, shoulder_min=203, soulder_max=599, elbow_min=865, elbow_max=261, \n",
    "              shoulder_min_angle =-90, shoudler_max_angle=0, \n",
    "              elbow_min_angle=0, elbow_max_angle=145):\n",
    "    col = df.columns # extract column names from dataframe\n",
    "    \n",
    "    # convertes first column (shoulder) to angles between -90 and 0\n",
    "    df[col[0]] = df.apply(lambda x: map_func(df[col[0]], shoulder_min, soulder_max, shoulder_min_angle, shoudler_max_angle)) \n",
    "    \n",
    "    # convertes second column (elbow) to angles between 0 and 160\n",
    "    df[col[1]] = df.apply(lambda x: map_func(df[col[1]], elbow_min, elbow_max, elbow_min_angle, elbow_max_angle))\n",
    "    return df"
   ]
  },
  {
   "cell_type": "markdown",
   "id": "231c7a9c",
   "metadata": {},
   "source": [
    "# Mapping Calibration"
   ]
  },
  {
   "cell_type": "code",
   "execution_count": 43,
   "id": "cc9bcab6",
   "metadata": {},
   "outputs": [
    {
     "data": {
      "text/html": [
       "<div>\n",
       "<style scoped>\n",
       "    .dataframe tbody tr th:only-of-type {\n",
       "        vertical-align: middle;\n",
       "    }\n",
       "\n",
       "    .dataframe tbody tr th {\n",
       "        vertical-align: top;\n",
       "    }\n",
       "\n",
       "    .dataframe thead th {\n",
       "        text-align: right;\n",
       "    }\n",
       "</style>\n",
       "<table border=\"1\" class=\"dataframe\">\n",
       "  <thead>\n",
       "    <tr style=\"text-align: right;\">\n",
       "      <th></th>\n",
       "      <th>Shoulder</th>\n",
       "      <th>Elbow</th>\n",
       "    </tr>\n",
       "  </thead>\n",
       "  <tbody>\n",
       "    <tr>\n",
       "      <th>0</th>\n",
       "      <td>203.0</td>\n",
       "      <td>490.0</td>\n",
       "    </tr>\n",
       "    <tr>\n",
       "      <th>1</th>\n",
       "      <td>203.0</td>\n",
       "      <td>490.0</td>\n",
       "    </tr>\n",
       "    <tr>\n",
       "      <th>2</th>\n",
       "      <td>198.0</td>\n",
       "      <td>489.0</td>\n",
       "    </tr>\n",
       "    <tr>\n",
       "      <th>3</th>\n",
       "      <td>202.0</td>\n",
       "      <td>865.0</td>\n",
       "    </tr>\n",
       "    <tr>\n",
       "      <th>4</th>\n",
       "      <td>599.0</td>\n",
       "      <td>491.0</td>\n",
       "    </tr>\n",
       "    <tr>\n",
       "      <th>5</th>\n",
       "      <td>598.0</td>\n",
       "      <td>490.0</td>\n",
       "    </tr>\n",
       "    <tr>\n",
       "      <th>6</th>\n",
       "      <td>598.0</td>\n",
       "      <td>489.0</td>\n",
       "    </tr>\n",
       "  </tbody>\n",
       "</table>\n",
       "</div>"
      ],
      "text/plain": [
       "   Shoulder  Elbow\n",
       "0     203.0  490.0\n",
       "1     203.0  490.0\n",
       "2     198.0  489.0\n",
       "3     202.0  865.0\n",
       "4     599.0  491.0\n",
       "5     598.0  490.0\n",
       "6     598.0  489.0"
      ]
     },
     "execution_count": 43,
     "metadata": {},
     "output_type": "execute_result"
    }
   ],
   "source": [
    "df = pd.read_csv('./datasets/pot_cal_dataset_clean_1.csv') # dataset generated during calibration run\n",
    "df # prints pot ADC values"
   ]
  },
  {
   "cell_type": "markdown",
   "id": "1b9e366b",
   "metadata": {},
   "source": [
    "- shoulder\n",
    "    - min\n",
    "        - angle:-90\n",
    "        - ADC: 203\n",
    "        \n",
    "    - max\n",
    "        - angle: 0\n",
    "        - ADC: 599\n",
    "\n",
    "- elbow\n",
    "    - min\n",
    "        - angle: 0\n",
    "        - ADC: 865\n",
    "    - max\n",
    "        - angle: 90\n",
    "            - extrapolated angle: 145\n",
    "        - ADC: 490\n",
    "            - extrapolated ADC: 261"
   ]
  },
  {
   "cell_type": "code",
   "execution_count": 44,
   "id": "0755f3e1",
   "metadata": {},
   "outputs": [
    {
     "data": {
      "text/plain": [
       "260.83333333333326"
      ]
     },
     "execution_count": 44,
     "metadata": {},
     "output_type": "execute_result"
    }
   ],
   "source": [
    "m = (865 - 490)/(0 - 90)\n",
    "\n",
    "y_145 = m*145 + 865\n",
    "y_145"
   ]
  },
  {
   "cell_type": "code",
   "execution_count": 45,
   "id": "3fb6aeae",
   "metadata": {},
   "outputs": [
    {
     "data": {
      "text/html": [
       "<div>\n",
       "<style scoped>\n",
       "    .dataframe tbody tr th:only-of-type {\n",
       "        vertical-align: middle;\n",
       "    }\n",
       "\n",
       "    .dataframe tbody tr th {\n",
       "        vertical-align: top;\n",
       "    }\n",
       "\n",
       "    .dataframe thead th {\n",
       "        text-align: right;\n",
       "    }\n",
       "</style>\n",
       "<table border=\"1\" class=\"dataframe\">\n",
       "  <thead>\n",
       "    <tr style=\"text-align: right;\">\n",
       "      <th></th>\n",
       "      <th>Shoulder</th>\n",
       "      <th>Elbow</th>\n",
       "    </tr>\n",
       "  </thead>\n",
       "  <tbody>\n",
       "    <tr>\n",
       "      <th>0</th>\n",
       "      <td>-90.000000</td>\n",
       "      <td>90.024834</td>\n",
       "    </tr>\n",
       "    <tr>\n",
       "      <th>1</th>\n",
       "      <td>-90.000000</td>\n",
       "      <td>90.024834</td>\n",
       "    </tr>\n",
       "    <tr>\n",
       "      <th>2</th>\n",
       "      <td>-91.136364</td>\n",
       "      <td>90.264901</td>\n",
       "    </tr>\n",
       "    <tr>\n",
       "      <th>3</th>\n",
       "      <td>-90.227273</td>\n",
       "      <td>0.000000</td>\n",
       "    </tr>\n",
       "    <tr>\n",
       "      <th>4</th>\n",
       "      <td>0.000000</td>\n",
       "      <td>89.784768</td>\n",
       "    </tr>\n",
       "    <tr>\n",
       "      <th>5</th>\n",
       "      <td>-0.227273</td>\n",
       "      <td>90.024834</td>\n",
       "    </tr>\n",
       "    <tr>\n",
       "      <th>6</th>\n",
       "      <td>-0.227273</td>\n",
       "      <td>90.264901</td>\n",
       "    </tr>\n",
       "  </tbody>\n",
       "</table>\n",
       "</div>"
      ],
      "text/plain": [
       "    Shoulder      Elbow\n",
       "0 -90.000000  90.024834\n",
       "1 -90.000000  90.024834\n",
       "2 -91.136364  90.264901\n",
       "3 -90.227273   0.000000\n",
       "4   0.000000  89.784768\n",
       "5  -0.227273  90.024834\n",
       "6  -0.227273  90.264901"
      ]
     },
     "execution_count": 45,
     "metadata": {},
     "output_type": "execute_result"
    }
   ],
   "source": [
    "df['Shoulder'] = df.apply(lambda x: map_func(df['Shoulder'], 203, 599, -90, 0))\n",
    "df['Elbow'] = df.apply(lambda x: map_func(df['Elbow'], 865, 261, 0, 145))\n",
    "df # prints pot converted angle values"
   ]
  },
  {
   "cell_type": "markdown",
   "id": "734acd70",
   "metadata": {},
   "source": [
    "# Converting ADC Values of Traced Image to Angles"
   ]
  },
  {
   "cell_type": "code",
   "execution_count": 46,
   "id": "652b3d53",
   "metadata": {},
   "outputs": [],
   "source": [
    "df = pd.read_csv('./datasets/hyster_dataset_clean_2.csv') # second_trial_3.csv is the results of the traced image\n",
    "df = df.dropna()\n",
    "df = adc2angle(df)\n",
    "df.to_csv('angles.csv', index=False)"
   ]
  },
  {
   "cell_type": "code",
   "execution_count": 47,
   "id": "59217f70",
   "metadata": {},
   "outputs": [
    {
     "name": "stdout",
     "output_type": "stream",
     "text": [
      "7103\n",
      "7093\n"
     ]
    }
   ],
   "source": [
    "print(len(df))\n",
    "df = df.dropna()\n",
    "df.to_csv('angles.csv', index=False)\n",
    "print(len(df))"
   ]
  }
 ],
 "metadata": {
  "kernelspec": {
   "display_name": "Python 3 (ipykernel)",
   "language": "python",
   "name": "python3"
  },
  "language_info": {
   "codemirror_mode": {
    "name": "ipython",
    "version": 3
   },
   "file_extension": ".py",
   "mimetype": "text/x-python",
   "name": "python",
   "nbconvert_exporter": "python",
   "pygments_lexer": "ipython3",
   "version": "3.9.2"
  }
 },
 "nbformat": 4,
 "nbformat_minor": 5
}
