{
 "cells": [
  {
   "cell_type": "code",
   "execution_count": 2,
   "id": "2caffe85",
   "metadata": {},
   "outputs": [],
   "source": [
    "import pandas as pd\n",
    "import seaborn as sns\n",
    "import matplotlib.pyplot as plt\n",
    "from sympy import latex\n",
    "from IPython.display import display, Math\n",
    "plt.rcParams['figure.figsize'] = [20, 10]"
   ]
  },
  {
   "cell_type": "code",
   "execution_count": 3,
   "id": "3f6a5b0e",
   "metadata": {},
   "outputs": [],
   "source": [
    "# retrived from https://www.arduino.cc/reference/en/language/functions/math/map/\n",
    "def map_func(x, in_min, in_max, out_min, out_max):\n",
    "    return (x - in_min) * (out_max - out_min) / (in_max - in_min) + out_min"
   ]
  },
  {
   "cell_type": "code",
   "execution_count": 4,
   "id": "f1cc2c2c",
   "metadata": {},
   "outputs": [],
   "source": [
    "def adc2angle(df, shoulder_min=910, soulder_max=132, elbow_min=145, elbow_max=820, elbow_min_angle=160):\n",
    "    col = df.columns # extract column names from dataframe\n",
    "    \n",
    "    # convertes first column to angles between -90 and 90\n",
    "    df[col[0]] = df.apply(lambda x: map_func(df[col[0]], shoulder_min, soulder_max, -90, 90)) \n",
    "    \n",
    "    # convertes second column to angles between 0 and 160\n",
    "    df[col[1]] = df.apply(lambda x: map_func(df[col[1]], elbow_min, elbow_max, 0, elbow_min_angle))\n",
    "    return df"
   ]
  },
  {
   "cell_type": "markdown",
   "id": "231c7a9c",
   "metadata": {},
   "source": [
    "# Mapping Calibration"
   ]
  },
  {
   "cell_type": "code",
   "execution_count": 5,
   "id": "cc9bcab6",
   "metadata": {},
   "outputs": [
    {
     "data": {
      "text/html": [
       "<div>\n",
       "<style scoped>\n",
       "    .dataframe tbody tr th:only-of-type {\n",
       "        vertical-align: middle;\n",
       "    }\n",
       "\n",
       "    .dataframe tbody tr th {\n",
       "        vertical-align: top;\n",
       "    }\n",
       "\n",
       "    .dataframe thead th {\n",
       "        text-align: right;\n",
       "    }\n",
       "</style>\n",
       "<table border=\"1\" class=\"dataframe\">\n",
       "  <thead>\n",
       "    <tr style=\"text-align: right;\">\n",
       "      <th></th>\n",
       "      <th>Sholder Angle</th>\n",
       "      <th>Elbow Angle</th>\n",
       "    </tr>\n",
       "  </thead>\n",
       "  <tbody>\n",
       "    <tr>\n",
       "      <th>0</th>\n",
       "      <td>907.0</td>\n",
       "      <td>144.0</td>\n",
       "    </tr>\n",
       "    <tr>\n",
       "      <th>1</th>\n",
       "      <td>907.0</td>\n",
       "      <td>144.0</td>\n",
       "    </tr>\n",
       "    <tr>\n",
       "      <th>2</th>\n",
       "      <td>906.0</td>\n",
       "      <td>144.0</td>\n",
       "    </tr>\n",
       "    <tr>\n",
       "      <th>3</th>\n",
       "      <td>913.0</td>\n",
       "      <td>817.0</td>\n",
       "    </tr>\n",
       "    <tr>\n",
       "      <th>4</th>\n",
       "      <td>914.0</td>\n",
       "      <td>818.0</td>\n",
       "    </tr>\n",
       "    <tr>\n",
       "      <th>5</th>\n",
       "      <td>914.0</td>\n",
       "      <td>818.0</td>\n",
       "    </tr>\n",
       "    <tr>\n",
       "      <th>6</th>\n",
       "      <td>132.0</td>\n",
       "      <td>147.0</td>\n",
       "    </tr>\n",
       "    <tr>\n",
       "      <th>7</th>\n",
       "      <td>132.0</td>\n",
       "      <td>147.0</td>\n",
       "    </tr>\n",
       "    <tr>\n",
       "      <th>8</th>\n",
       "      <td>132.0</td>\n",
       "      <td>147.0</td>\n",
       "    </tr>\n",
       "  </tbody>\n",
       "</table>\n",
       "</div>"
      ],
      "text/plain": [
       "   Sholder Angle  Elbow Angle\n",
       "0          907.0        144.0\n",
       "1          907.0        144.0\n",
       "2          906.0        144.0\n",
       "3          913.0        817.0\n",
       "4          914.0        818.0\n",
       "5          914.0        818.0\n",
       "6          132.0        147.0\n",
       "7          132.0        147.0\n",
       "8          132.0        147.0"
      ]
     },
     "execution_count": 5,
     "metadata": {},
     "output_type": "execute_result"
    }
   ],
   "source": [
    "df = pd.read_csv('second_trial_2.csv') # dataset generated during calibration run\n",
    "df # prints pot ADC values"
   ]
  },
  {
   "cell_type": "code",
   "execution_count": 6,
   "id": "3fb6aeae",
   "metadata": {},
   "outputs": [
    {
     "data": {
      "text/html": [
       "<div>\n",
       "<style scoped>\n",
       "    .dataframe tbody tr th:only-of-type {\n",
       "        vertical-align: middle;\n",
       "    }\n",
       "\n",
       "    .dataframe tbody tr th {\n",
       "        vertical-align: top;\n",
       "    }\n",
       "\n",
       "    .dataframe thead th {\n",
       "        text-align: right;\n",
       "    }\n",
       "</style>\n",
       "<table border=\"1\" class=\"dataframe\">\n",
       "  <thead>\n",
       "    <tr style=\"text-align: right;\">\n",
       "      <th></th>\n",
       "      <th>Sholder Angle</th>\n",
       "      <th>Elbow Angle</th>\n",
       "    </tr>\n",
       "  </thead>\n",
       "  <tbody>\n",
       "    <tr>\n",
       "      <th>0</th>\n",
       "      <td>-89.305913</td>\n",
       "      <td>-0.237037</td>\n",
       "    </tr>\n",
       "    <tr>\n",
       "      <th>1</th>\n",
       "      <td>-89.305913</td>\n",
       "      <td>-0.237037</td>\n",
       "    </tr>\n",
       "    <tr>\n",
       "      <th>2</th>\n",
       "      <td>-89.074550</td>\n",
       "      <td>-0.237037</td>\n",
       "    </tr>\n",
       "    <tr>\n",
       "      <th>3</th>\n",
       "      <td>-90.694087</td>\n",
       "      <td>159.288889</td>\n",
       "    </tr>\n",
       "    <tr>\n",
       "      <th>4</th>\n",
       "      <td>-90.925450</td>\n",
       "      <td>159.525926</td>\n",
       "    </tr>\n",
       "    <tr>\n",
       "      <th>5</th>\n",
       "      <td>-90.925450</td>\n",
       "      <td>159.525926</td>\n",
       "    </tr>\n",
       "    <tr>\n",
       "      <th>6</th>\n",
       "      <td>90.000000</td>\n",
       "      <td>0.474074</td>\n",
       "    </tr>\n",
       "    <tr>\n",
       "      <th>7</th>\n",
       "      <td>90.000000</td>\n",
       "      <td>0.474074</td>\n",
       "    </tr>\n",
       "    <tr>\n",
       "      <th>8</th>\n",
       "      <td>90.000000</td>\n",
       "      <td>0.474074</td>\n",
       "    </tr>\n",
       "  </tbody>\n",
       "</table>\n",
       "</div>"
      ],
      "text/plain": [
       "   Sholder Angle  Elbow Angle\n",
       "0     -89.305913    -0.237037\n",
       "1     -89.305913    -0.237037\n",
       "2     -89.074550    -0.237037\n",
       "3     -90.694087   159.288889\n",
       "4     -90.925450   159.525926\n",
       "5     -90.925450   159.525926\n",
       "6      90.000000     0.474074\n",
       "7      90.000000     0.474074\n",
       "8      90.000000     0.474074"
      ]
     },
     "execution_count": 6,
     "metadata": {},
     "output_type": "execute_result"
    }
   ],
   "source": [
    "df['Sholder Angle'] = df.apply(lambda x: map_func(df['Sholder Angle'], 910, 132, -90, 90))\n",
    "df['Elbow Angle'] = df.apply(lambda x: map_func(df['Elbow Angle'], 145, 820, 0, 160))\n",
    "df # prints pot converted angle values"
   ]
  },
  {
   "cell_type": "markdown",
   "id": "734acd70",
   "metadata": {},
   "source": [
    "# Converting ADC Values of Traced Image to Angles"
   ]
  },
  {
   "cell_type": "code",
   "execution_count": 7,
   "id": "652b3d53",
   "metadata": {},
   "outputs": [],
   "source": [
    "df = pd.read_csv('second_trial_3.csv') # second_trial_3.csv is the results of the traced image\n",
    "df = adc2angle(df)\n",
    "df.to_csv('angles.csv', index=False)"
   ]
  }
 ],
 "metadata": {
  "kernelspec": {
   "display_name": "Python 3 (ipykernel)",
   "language": "python",
   "name": "python3"
  },
  "language_info": {
   "codemirror_mode": {
    "name": "ipython",
    "version": 3
   },
   "file_extension": ".py",
   "mimetype": "text/x-python",
   "name": "python",
   "nbconvert_exporter": "python",
   "pygments_lexer": "ipython3",
   "version": "3.9.2"
  }
 },
 "nbformat": 4,
 "nbformat_minor": 5
}
